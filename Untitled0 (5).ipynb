{
  "nbformat": 4,
  "nbformat_minor": 0,
  "metadata": {
    "colab": {
      "provenance": []
    },
    "kernelspec": {
      "name": "python3",
      "display_name": "Python 3"
    },
    "language_info": {
      "name": "python"
    }
  },
  "cells": [
    {
      "cell_type": "code",
      "execution_count": null,
      "metadata": {
        "id": "ioAI4TIY6_qS"
      },
      "outputs": [],
      "source": [
        "1. What is statistics, and why is it important?\n",
        "\n",
        "Answer: Statistics is the science of collecting, organizing, analyzing, and interpreting data. It helps make informed decisions based on data patterns and trends.\n",
        "\n",
        "Importance:\n",
        "\n",
        "Summarizes complex data\n",
        "\n",
        "Aids decision-making in business, science, health, etc.\n",
        "\n",
        "Supports predictions and testing hypotheses\n",
        "\n",
        "2. What are the two main types of statistics?\n",
        "\n",
        "Answer:\n",
        "\n",
        "Descriptive Statistics: Summarizes data using measures like mean, median, mode.\n",
        "\n",
        "Inferential Statistics: Makes predictions or inferences about a population based on a sample.\n",
        "\n",
        "3. What are descriptive statistics?\n",
        "\n",
        "Answer: Descriptive statistics describe the main features of a dataset through summary measures like:\n",
        "\n",
        "Measures of central tendency: Mean, Median, Mode\n",
        "\n",
        "Measures of dispersion: Range, Variance, Standard Deviation\n",
        "\n",
        "4. What is inferential statistics?\n",
        "\n",
        "Answer: Inferential statistics uses sample data to make generalizations about a larger population. It involves:\n",
        "\n",
        "Estimation (e.g., confidence intervals)\n",
        "\n",
        "Hypothesis testing (e.g., t-tests, chi-square tests)\n",
        "\n",
        "5. What is sampling in statistics?\n",
        "\n",
        "Answer: Sampling is the process of selecting a subset (sample) from a larger group (population) to analyze characteristics of the whole population.\n",
        "\n",
        "6. What are the different types of sampling methods?\n",
        "\n",
        "Answer:\n",
        "\n",
        "Random Sampling: Each element has equal chance (e.g., lottery)\n",
        "\n",
        "Stratified Sampling: Population is divided into subgroups, samples taken from each\n",
        "\n",
        "Systematic Sampling: Every k-th element is selected\n",
        "\n",
        "Cluster Sampling: Random clusters are selected instead of individuals\n",
        "\n",
        "Convenience Sampling: Samples taken from easy-to-access sources\n",
        "\n",
        "7. What is the difference between random and non-random sampling?\n",
        "\n",
        "Answer:\n",
        "\n",
        "Random Sampling: Every member has equal probability (unbiased)\n",
        "\n",
        "Non-Random Sampling: Selection is based on convenience or judgment (may be biased)\n",
        "\n",
        "8. Define and give examples of qualitative and quantitative data.\n",
        "\n",
        "Answer:\n",
        "\n",
        "Qualitative Data: Categorical (e.g., gender, color)\n",
        "\n",
        "Quantitative Data: Numerical (e.g., height, weight)\n",
        "\n",
        "9. What are the different types of data in statistics?\n",
        "\n",
        "Answer:\n",
        "\n",
        "Nominal: Categories without order (e.g., blood type)\n",
        "\n",
        "Ordinal: Ordered categories (e.g., education level)\n",
        "\n",
        "Interval: Numerical with equal intervals, no true zero (e.g., temperature)\n",
        "\n",
        "Ratio: Numerical with a true zero (e.g., age, weight)\n",
        "\n",
        "11. What is the measure of central tendency?\n",
        "\n",
        "Answer: It refers to values that represent the center or average of a dataset: mean, median, and mode.\n",
        "\n",
        "12. Define mean, median, and mode.\n",
        "\n",
        "Answer:\n",
        "\n",
        "Mean: Average of values\n",
        "\n",
        "Median: Middle value\n",
        "\n",
        "Mode: Most frequent value\n",
        "\n",
        "13. What is the significance of the measure of central tendency?\n",
        "\n",
        "Answer: Helps summarize a dataset with a single representative value and understand data distribution.\n",
        "\n",
        "14. What is variance, and how is it calculated?\n",
        "\n",
        "Answer: Variance measures how far values spread from the mean.\n",
        "Formula:\n",
        "\n",
        "Variance = Sum of (x - mean)^2 / n\n",
        "\n",
        "15. What is standard deviation, and why is it important?\n",
        "\n",
        "Answer: SD is the square root of variance. It helps understand the spread or dispersion of data points.\n",
        "\n",
        "16. Define and explain the term range in statistics.\n",
        "\n",
        "Answer:\n",
        "Range = Maximum value - Minimum value. It measures the spread of values in a dataset.\n",
        "\n",
        "17. What is the difference between variance and standard deviation?\n",
        "\n",
        "Answer:\n",
        "\n",
        "Variance is the average squared deviation from the mean\n",
        "\n",
        "Standard Deviation is the square root of variance (in original units)\n",
        "\n",
        "18. What is skewness in a dataset?\n",
        "\n",
        "Answer: Skewness measures asymmetry in data distribution.\n",
        "\n",
        "Positive skew: Tail on the right\n",
        "\n",
        "Negative skew: Tail on the left\n",
        "\n",
        "19. What does it mean if a dataset is positively or negatively skewed?\n",
        "\n",
        "Answer:\n",
        "\n",
        "Positively Skewed: Mean > Median\n",
        "\n",
        "Negatively Skewed: Mean < Median\n",
        "\n",
        "20. Define and explain kurtosis.\n",
        "\n",
        "Answer:\n",
        "Kurtosis measures the \"tailedness\" of the distribution.\n",
        "\n",
        "High kurtosis: Heavy tails (more outliers)\n",
        "\n",
        "Low kurtosis: Light tails (less outliers)\n",
        "\n",
        "21. What is the purpose of covariance?\n",
        "\n",
        "Answer: Covariance shows how two variables change together:\n",
        "\n",
        "Positive: Both increase\n",
        "\n",
        "Negative: One increases, other decreases\n",
        "\n",
        "22. What does correlation measure in statistics?\n",
        "\n",
        "Answer: Correlation measures the strength and direction of the relationship between two variables. Values range from -1 to +1.\n",
        "\n",
        "23. What is the difference between covariance and correlation?\n",
        "\n",
        "Answer:\n",
        "\n",
        "Covariance: Measures direction of linear relationship\n",
        "\n",
        "Correlation: Standardized version of covariance (unit-free)\n",
        "\n",
        "24. What are some real-world applications of statistics?\n",
        "\n",
        "Market research\n",
        "\n",
        "Clinical trials in medicine\n",
        "\n",
        "Quality control in manufacturing\n",
        "\n",
        "Sports performance analysis\n",
        "\n",
        "Government policy & census"
      ]
    },
    {
      "cell_type": "code",
      "source": [
        "#1. How do you calculate the mean, median, and mode of a dataset?\n",
        "\n",
        "import numpy as np\n",
        "from scipy import stats\n",
        "\n",
        "data = [12, 15, 14, 10, 18, 20, 15]\n",
        "\n",
        "mean = np.mean(data)\n",
        "median = np.median(data)\n",
        "\n",
        "\n",
        "print(\"Mean:\", mean)\n",
        "print(\"Median:\", median)\n"
      ],
      "metadata": {
        "id": "mBPHDo6F7xfD",
        "colab": {
          "base_uri": "https://localhost:8080/"
        },
        "outputId": "0a33163a-37a6-460b-947f-2cc12d9c69f3"
      },
      "execution_count": 2,
      "outputs": [
        {
          "output_type": "stream",
          "name": "stdout",
          "text": [
            "Mean: 14.857142857142858\n",
            "Median: 15.0\n"
          ]
        }
      ]
    },
    {
      "cell_type": "code",
      "source": [
        "#2. Python program to compute variance and standard deviation\n",
        "variance = np.var(data)\n",
        "std_dev = np.std(data)\n",
        "\n",
        "print(\"Variance:\", variance)\n",
        "print(\"Standard Deviation:\", std_dev)"
      ],
      "metadata": {
        "colab": {
          "base_uri": "https://localhost:8080/"
        },
        "id": "Nsrq7nFBgfXv",
        "outputId": "c4a04df8-dc06-4774-b44a-84a6b1e70293"
      },
      "execution_count": 3,
      "outputs": [
        {
          "output_type": "stream",
          "name": "stdout",
          "text": [
            "Variance: 9.83673469387755\n",
            "Standard Deviation: 3.136356914300021\n"
          ]
        }
      ]
    },
    {
      "cell_type": "code",
      "source": [
        "#3. Create and classify a dataset\n",
        "\n",
        "sample_data = {\n",
        "    'Name': ['Alice', 'Bob'],                        # Nominal\n",
        "    'Education_Level': ['High School', 'College'],  # Ordinal\n",
        "    'Temperature': [98.6, 99.1],                    # Interval\n",
        "    'Weight': [55, 72]                              # Ratio\n",
        "}"
      ],
      "metadata": {
        "id": "B1SvRpr1gsLw"
      },
      "execution_count": 4,
      "outputs": []
    },
    {
      "cell_type": "code",
      "source": [
        "#4. Random and Stratified Sampling\n",
        "\n",
        "import pandas as pd\n",
        "from sklearn.model_selection import train_test_split\n",
        "\n",
        "df = pd.DataFrame({\n",
        "    'Gender': ['M', 'F', 'F', 'M', 'F', 'M'],\n",
        "    'Age': [22, 25, 24, 23, 22, 26]\n",
        "})\n",
        "\n",
        "# Random sampling\n",
        "random_sample = df.sample(n=3)\n",
        "\n",
        "# Stratified sampling\n",
        "stratified_sample = df.groupby('Gender', group_keys=False).apply(lambda x: x.sample(1))\n",
        "print(random_sample)\n",
        "print(stratified_sample)"
      ],
      "metadata": {
        "colab": {
          "base_uri": "https://localhost:8080/"
        },
        "id": "tH20vsh9gwnP",
        "outputId": "daf6e6ab-cdd7-45b2-a957-399592bf4a18"
      },
      "execution_count": 5,
      "outputs": [
        {
          "output_type": "stream",
          "name": "stdout",
          "text": [
            "  Gender  Age\n",
            "3      M   23\n",
            "4      F   22\n",
            "5      M   26\n",
            "  Gender  Age\n",
            "4      F   22\n",
            "5      M   26\n"
          ]
        },
        {
          "output_type": "stream",
          "name": "stderr",
          "text": [
            "<ipython-input-5-6ec55cd84f77>:15: DeprecationWarning: DataFrameGroupBy.apply operated on the grouping columns. This behavior is deprecated, and in a future version of pandas the grouping columns will be excluded from the operation. Either pass `include_groups=False` to exclude the groupings or explicitly select the grouping columns after groupby to silence this warning.\n",
            "  stratified_sample = df.groupby('Gender', group_keys=False).apply(lambda x: x.sample(1))\n"
          ]
        }
      ]
    },
    {
      "cell_type": "code",
      "source": [
        "#5. Python function to calculate the range\n",
        "\n",
        "def calc_range(data):\n",
        "    return max(data) - min(data)\n",
        "\n",
        "print(\"Range:\", calc_range(data))"
      ],
      "metadata": {
        "colab": {
          "base_uri": "https://localhost:8080/"
        },
        "id": "d4xZeqdmg1Sl",
        "outputId": "acf75e22-bab8-4bdb-b7de-d8646b09cee0"
      },
      "execution_count": 6,
      "outputs": [
        {
          "output_type": "stream",
          "name": "stdout",
          "text": [
            "Range: 10\n"
          ]
        }
      ]
    },
    {
      "cell_type": "code",
      "source": [
        "#6. Plot histogram to visualize skewness\n",
        "import matplotlib.pyplot as plt\n",
        "import seaborn as sns\n",
        "\n",
        "sns.histplot(data, kde=True)\n",
        "plt.title(\"Histogram\")\n",
        "plt.show()"
      ],
      "metadata": {
        "colab": {
          "base_uri": "https://localhost:8080/",
          "height": 452
        },
        "id": "xVqOnQ3jg5OX",
        "outputId": "381187d7-22f8-414f-c26f-ebd3e3dde10e"
      },
      "execution_count": 7,
      "outputs": [
        {
          "output_type": "display_data",
          "data": {
            "text/plain": [
              "<Figure size 640x480 with 1 Axes>"
            ],
            "image/png": "[encoded data removed]"
          },
          "metadata": {}
        }
      ]
    },
    {
      "cell_type": "code",
      "source": [
        "#7. Calculate skewness and kurtosis\n",
        "skewness = stats.skew(data)\n",
        "kurtosis = stats.kurtosis(data)\n",
        "\n",
        "print(\"Skewness:\", skewness)\n",
        "print(\"Kurtosis:\", kurtosis)"
      ],
      "metadata": {
        "colab": {
          "base_uri": "https://localhost:8080/"
        },
        "id": "jhCV_J5vg_pE",
        "outputId": "54ce4136-f955-44db-d127-3232be04b984"
      },
      "execution_count": 8,
      "outputs": [
        {
          "output_type": "stream",
          "name": "stdout",
          "text": [
            "Skewness: 0.1321102803125802\n",
            "Kurtosis: -0.9022485838742447\n"
          ]
        }
      ]
    },
    {
      "cell_type": "code",
      "source": [
        "#8. Positive and negative skewness examples\n",
        "\n",
        "import numpy as np\n",
        "positive_skew = np.random.exponential(size=1000)\n",
        "negative_skew = -np.random.exponential(size=1000)\n",
        "\n",
        "sns.histplot(positive_skew, kde=True)\n",
        "plt.title(\"Positive Skew\")\n",
        "plt.show()\n",
        "\n",
        "sns.histplot(negative_skew, kde=True)\n",
        "plt.title(\"Negative Skew\")\n",
        "plt.show()"
      ],
      "metadata": {
        "colab": {
          "base_uri": "https://localhost:8080/",
          "height": 887
        },
        "id": "txGGH2NFhD2c",
        "outputId": "602d43d0-45b9-4120-f90f-2851754a433f"
      },
      "execution_count": 9,
      "outputs": [
        {
          "output_type": "display_data",
          "data": {
            "text/plain": [
              "<Figure size 640x480 with 1 Axes>"
            ],
            "image/png": "[encoded data removed]"
          },
          "metadata": {}
        },
        {
          "output_type": "display_data",
          "data": {
            "text/plain": [
              "<Figure size 640x480 with 1 Axes>"
            ],
            "image/png": "[encoded data removed]"
          },
          "metadata": {}
        }
      ]
    },
    {
      "cell_type": "code",
      "source": [
        "#9. Covariance between two datasets\n",
        "\n",
        "x = [2, 4, 6, 8]\n",
        "y = [1, 3, 2, 5]\n",
        "cov_matrix = np.cov(x, y)\n",
        "\n",
        "print(\"Covariance:\", cov_matrix[0, 1])"
      ],
      "metadata": {
        "colab": {
          "base_uri": "https://localhost:8080/"
        },
        "id": "dUXWdjGChH0n",
        "outputId": "f1b44fa9-e319-4baf-998c-3ff7222e5fe2"
      },
      "execution_count": 10,
      "outputs": [
        {
          "output_type": "stream",
          "name": "stdout",
          "text": [
            "Covariance: 3.6666666666666665\n"
          ]
        }
      ]
    },
    {
      "cell_type": "code",
      "source": [
        "#10. Correlation coefficient between two datasets\n",
        "\n",
        "corr_coeff = np.corrcoef(x, y)\n",
        "print(\"Correlation Coefficient:\", corr_coeff[0, 1])"
      ],
      "metadata": {
        "colab": {
          "base_uri": "https://localhost:8080/"
        },
        "id": "de_5-bBOhLja",
        "outputId": "d716a80b-2c6b-4a2a-e3b5-0af22cee8108"
      },
      "execution_count": 11,
      "outputs": [
        {
          "output_type": "stream",
          "name": "stdout",
          "text": [
            "Correlation Coefficient: 0.8315218406202999\n"
          ]
        }
      ]
    },
    {
      "cell_type": "code",
      "source": [
        "#11. Scatter plot to visualize relationship\n",
        "\n",
        "plt.scatter(x, y)\n",
        "plt.title(\"Scatter Plot\")\n",
        "plt.xlabel(\"X\")\n",
        "plt.ylabel(\"Y\")\n",
        "plt.show()"
      ],
      "metadata": {
        "colab": {
          "base_uri": "https://localhost:8080/",
          "height": 472
        },
        "id": "duFn0Z5qhO_k",
        "outputId": "fe206fbf-252f-4950-c9b3-7bbac3f66a43"
      },
      "execution_count": 12,
      "outputs": [
        {
          "output_type": "display_data",
          "data": {
            "text/plain": [
              "<Figure size 640x480 with 1 Axes>"
            ],
            "image/png": "[encoded data removed]"
          },
          "metadata": {}
        }
      ]
    },
    {
      "cell_type": "code",
      "source": [
        "#12. Simple Random vs Systematic Sampling\n",
        "\n",
        "# Simple Random\n",
        "simple_random = df.sample(n=3)\n",
        "\n",
        "# Systematic\n",
        "k = 2\n",
        "systematic_sample = df.iloc[::k]\n",
        "print(\"Simple Random Sample:\\n\", simple_random)\n",
        "print(\"Systematic Sample:\\n\", systematic_sample)"
      ],
      "metadata": {
        "colab": {
          "base_uri": "https://localhost:8080/"
        },
        "id": "CR9MSNPChWnL",
        "outputId": "771ffc18-8754-41db-eea7-02f43c6372a4"
      },
      "execution_count": 13,
      "outputs": [
        {
          "output_type": "stream",
          "name": "stdout",
          "text": [
            "Simple Random Sample:\n",
            "   Gender  Age\n",
            "4      F   22\n",
            "2      F   24\n",
            "0      M   22\n",
            "Systematic Sample:\n",
            "   Gender  Age\n",
            "0      M   22\n",
            "2      F   24\n",
            "4      F   22\n"
          ]
        }
      ]
    },
    {
      "cell_type": "code",
      "source": [
        "#13. Mean, Median, Mode of grouped data\n",
        "\n",
        "import pandas as pd\n",
        "\n",
        "grouped_data = pd.DataFrame({\n",
        "    'Class': ['0-10', '10-20', '20-30'],\n",
        "    'Frequency': [5, 8, 7]\n",
        "})\n",
        "\n",
        "# Approximate mean using midpoints\n",
        "midpoints = [5, 15, 25]\n",
        "frequencies = grouped_data['Frequency']\n",
        "mean = sum([m * f for m, f in zip(midpoints, frequencies)]) / sum(frequencies)\n",
        "print(\"Grouped Mean:\", mean)"
      ],
      "metadata": {
        "colab": {
          "base_uri": "https://localhost:8080/"
        },
        "id": "7EEjkXVnhaGD",
        "outputId": "41ea24eb-4199-4175-ee56-d1dcd7d05098"
      },
      "execution_count": 14,
      "outputs": [
        {
          "output_type": "stream",
          "name": "stdout",
          "text": [
            "Grouped Mean: 16.0\n"
          ]
        }
      ]
    },
    {
      "cell_type": "code",
      "source": [
        "#14. Simulate data and calculate central tendency & dispersion\n",
        "\n",
        "simulated_data = np.random.normal(loc=50, scale=10, size=1000)\n",
        "print(\"Mean:\", np.mean(simulated_data))\n",
        "print(\"Std Dev:\", np.std(simulated_data))"
      ],
      "metadata": {
        "colab": {
          "base_uri": "https://localhost:8080/"
        },
        "id": "MzT1y7_Nhe1M",
        "outputId": "a5534869-b6e7-4cdd-eb92-be2086a9dc51"
      },
      "execution_count": 15,
      "outputs": [
        {
          "output_type": "stream",
          "name": "stdout",
          "text": [
            "Mean: 49.2696805777114\n",
            "Std Dev: 10.124033213781292\n"
          ]
        }
      ]
    },
    {
      "cell_type": "code",
      "source": [
        "#15. Descriptive statistics using NumPy/pandas\n",
        "\n",
        "import pandas as pd\n",
        "\n",
        "summary = pd.Series(simulated_data).describe()\n",
        "print(summary)"
      ],
      "metadata": {
        "colab": {
          "base_uri": "https://localhost:8080/"
        },
        "id": "VjBHcqQ3himX",
        "outputId": "8bc33890-005d-460c-f54d-288fa6c5cdaa"
      },
      "execution_count": 16,
      "outputs": [
        {
          "output_type": "stream",
          "name": "stdout",
          "text": [
            "count    1000.000000\n",
            "mean       49.269681\n",
            "std        10.129099\n",
            "min        16.699432\n",
            "25%        42.263374\n",
            "50%        48.968939\n",
            "75%        56.134075\n",
            "max        80.651956\n",
            "dtype: float64\n"
          ]
        }
      ]
    },
    {
      "cell_type": "code",
      "source": [
        "#16. Boxplot for spread and outliers\n",
        "\n",
        "sns.boxplot(data=simulated_data)\n",
        "plt.title(\"Boxplot\")\n",
        "plt.show()"
      ],
      "metadata": {
        "colab": {
          "base_uri": "https://localhost:8080/",
          "height": 433
        },
        "id": "vllWf6dEhmJO",
        "outputId": "48acace6-31ab-45d4-83f9-8a3cd8070d32"
      },
      "execution_count": 17,
      "outputs": [
        {
          "output_type": "display_data",
          "data": {
            "text/plain": [
              "<Figure size 640x480 with 1 Axes>"
            ],
            "image/png": "[encoded data removed]"
          },
          "metadata": {}
        }
      ]
    },
    {
      "cell_type": "code",
      "source": [
        "#18. Z-score normalization\n",
        "\n",
        "z_scores = (simulated_data - np.mean(simulated_data)) / np.std(simulated_data)\n",
        "print(z_scores[:5])"
      ],
      "metadata": {
        "colab": {
          "base_uri": "https://localhost:8080/"
        },
        "id": "GSwmSKbdhpBY",
        "outputId": "3837933e-be87-44a5-825b-1932333382c1"
      },
      "execution_count": 20,
      "outputs": [
        {
          "output_type": "stream",
          "name": "stdout",
          "text": [
            "[1.07481551 0.57325756 1.66364336 0.09665996 0.71004588]\n"
          ]
        }
      ]
    },
    {
      "cell_type": "code",
      "source": [
        "#19. Compare two datasets using SD\n",
        "\n",
        "data1 = np.random.normal(50, 5, 100)\n",
        "data2 = np.random.normal(50, 15, 100)\n",
        "print(\"SD1:\", np.std(data1))\n",
        "print(\"SD2:\", np.std(data2))"
      ],
      "metadata": {
        "colab": {
          "base_uri": "https://localhost:8080/"
        },
        "id": "5iXG_PnJhq1x",
        "outputId": "92c0856c-cbef-481a-b893-926a33cc3c4b"
      },
      "execution_count": 21,
      "outputs": [
        {
          "output_type": "stream",
          "name": "stdout",
          "text": [
            "SD1: 5.0437501586394635\n",
            "SD2: 16.334123641010034\n"
          ]
        }
      ]
    },
    {
      "cell_type": "code",
      "source": [
        "#20. Covariance heatmap\n",
        "\n",
        "import seaborn as sns\n",
        "import pandas as pd\n",
        "\n",
        "cov_df = pd.DataFrame({'x': x, 'y': y})\n",
        "sns.heatmap(cov_df.cov(), annot=True)\n",
        "plt.title(\"Covariance Heatmap\")\n",
        "plt.show()"
      ],
      "metadata": {
        "colab": {
          "base_uri": "https://localhost:8080/",
          "height": 452
        },
        "id": "UrhuruWKh4FO",
        "outputId": "b4883164-c884-40fe-8763-ebebfe1fce4e"
      },
      "execution_count": 22,
      "outputs": [
        {
          "output_type": "display_data",
          "data": {
            "text/plain": [
              "<Figure size 640x480 with 2 Axes>"
            ],
            "image/png": "[encoded data removed]"
          },
          "metadata": {}
        }
      ]
    },
    {
      "cell_type": "code",
      "source": [
        "#21. Correlation matrix with seaborn\n",
        "sns.heatmap(cov_df.corr(), annot=True)\n",
        "plt.title(\"Correlation Matrix\")\n",
        "plt.show()"
      ],
      "metadata": {
        "colab": {
          "base_uri": "https://localhost:8080/",
          "height": 452
        },
        "id": "6F7n56bKh8Zo",
        "outputId": "99959827-78c9-4379-f3f9-f9c98ec155f8"
      },
      "execution_count": 23,
      "outputs": [
        {
          "output_type": "display_data",
          "data": {
            "text/plain": [
              "<Figure size 640x480 with 2 Axes>"
            ],
            "image/png": "[encoded data removed]"
          },
          "metadata": {}
        }
      ]
    },
    {
      "cell_type": "code",
      "source": [
        "#22. Pearson & Spearman Correlation\n",
        "\n",
        "pearson_corr = stats.pearsonr(x, y)\n",
        "spearman_corr = stats.spearmanr(x, y)\n",
        "\n",
        "print(\"Pearson Correlation:\", pearson_corr[0])\n",
        "print(\"Spearman Correlation:\", spearman_corr[0])"
      ],
      "metadata": {
        "colab": {
          "base_uri": "https://localhost:8080/"
        },
        "id": "U_vTCo9xiApj",
        "outputId": "4ff7c41e-2c01-4dbf-dfc6-69eb1faa11a1"
      },
      "execution_count": 24,
      "outputs": [
        {
          "output_type": "stream",
          "name": "stdout",
          "text": [
            "Pearson Correlation: 0.8315218406202999\n",
            "Spearman Correlation: 0.7999999999999999\n"
          ]
        }
      ]
    },
    {
      "cell_type": "code",
      "source": [],
      "metadata": {
        "id": "hnPx_UmPiEOH"
      },
      "execution_count": null,
      "outputs": []
    }
  ]
}